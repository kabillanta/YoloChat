{
 "cells": [
  {
   "cell_type": "code",
   "execution_count": 1,
   "id": "b2a26b68-bb50-4465-9766-71dc0202decb",
   "metadata": {},
   "outputs": [],
   "source": [
    "import torch\n",
    "import torch.nn as nn \n",
    "from transformers import BlipProcessor, BlipForConditionalGeneration, BertTokenizer, BertForQuestionAnswering\n",
    "from PIL import Image"
   ]
  },
  {
   "cell_type": "code",
   "execution_count": 2,
   "id": "608e153d-1c44-435a-b47e-75541bc5b8ed",
   "metadata": {},
   "outputs": [
    {
     "name": "stderr",
     "output_type": "stream",
     "text": [
      "Using cache found in /home/naren/.cache/torch/hub/ultralytics_yolov5_master\n",
      "YOLOv5 🚀 2024-9-11 Python-3.12.4 torch-2.4.0+cu121 CPU\n",
      "\n",
      "Fusing layers... \n",
      "YOLOv5s summary: 213 layers, 7225885 parameters, 0 gradients, 16.4 GFLOPs\n",
      "Adding AutoShape... \n"
     ]
    },
    {
     "name": "stdout",
     "output_type": "stream",
     "text": [
      "Detected Objects: ['horse']\n"
     ]
    },
    {
     "name": "stderr",
     "output_type": "stream",
     "text": [
      "/home/naren/.cache/torch/hub/ultralytics_yolov5_master/models/common.py:892: FutureWarning: `torch.cuda.amp.autocast(args...)` is deprecated. Please use `torch.amp.autocast('cuda', args...)` instead.\n",
      "  with amp.autocast(autocast):\n"
     ]
    }
   ],
   "source": [
    "model = torch.hub.load('ultralytics/yolov5', 'yolov5s')\n",
    "\n",
    "img_path = \"maxresdefault.jpg\"\n",
    "results = model(\"maxresdefault.jpg\")\n",
    "detected_objects = results.pandas().xyxy[0]['name'].tolist()\n",
    "print(\"Detected Objects:\", detected_objects)"
   ]
  },
  {
   "cell_type": "code",
   "execution_count": 3,
   "id": "f43ec5ef-d663-4111-b25a-e11363afe521",
   "metadata": {},
   "outputs": [
    {
     "name": "stdout",
     "output_type": "stream",
     "text": [
      "Generated Caption: a black horse running through a field\n"
     ]
    }
   ],
   "source": [
    "processor = BlipProcessor.from_pretrained(\"Salesforce/blip-image-captioning-base\")\n",
    "model = BlipForConditionalGeneration.from_pretrained(\"Salesforce/blip-image-captioning-base\")\n",
    "\n",
    "\n",
    "img = Image.open(img_path)\n",
    "inputs = processor(img, return_tensors=\"pt\")\n",
    "outputs = model.generate(**inputs)\n",
    "\n",
    "# Decode the output\n",
    "caption = processor.decode(outputs[0], skip_special_tokens=True)\n",
    "print(\"Generated Caption:\", caption)"
   ]
  },
  {
   "cell_type": "code",
   "execution_count": 4,
   "id": "5696a0ca-83d4-45de-8cfa-4b6617fc352d",
   "metadata": {},
   "outputs": [
    {
     "name": "stderr",
     "output_type": "stream",
     "text": [
      "Some weights of the model checkpoint at bert-large-uncased-whole-word-masking-finetuned-squad were not used when initializing BertForQuestionAnswering: ['bert.pooler.dense.bias', 'bert.pooler.dense.weight']\n",
      "- This IS expected if you are initializing BertForQuestionAnswering from the checkpoint of a model trained on another task or with another architecture (e.g. initializing a BertForSequenceClassification model from a BertForPreTraining model).\n",
      "- This IS NOT expected if you are initializing BertForQuestionAnswering from the checkpoint of a model that you expect to be exactly identical (initializing a BertForSequenceClassification model from a BertForSequenceClassification model).\n"
     ]
    },
    {
     "name": "stdout",
     "output_type": "stream",
     "text": [
      "Answer: running\n"
     ]
    }
   ],
   "source": [
    "tokenizer = BertTokenizer.from_pretrained('bert-large-uncased-whole-word-masking-finetuned-squad')\n",
    "model = BertForQuestionAnswering.from_pretrained('bert-large-uncased-whole-word-masking-finetuned-squad')\n",
    "\n",
    "# Example Query\n",
    "query = \"What the horse doing?\"\n",
    "\n",
    "# Tokenize the inputs (caption + query)\n",
    "inputs = tokenizer.encode_plus(query, caption, return_tensors=\"pt\")\n",
    "\n",
    "# Get the answer span\n",
    "start_scores, end_scores = model(**inputs, return_dict=False)\n",
    "start_idx = torch.argmax(start_scores)\n",
    "end_idx = torch.argmax(end_scores) + 1\n",
    "\n",
    "# Decode the answer\n",
    "answer = tokenizer.convert_tokens_to_string(tokenizer.convert_ids_to_tokens(inputs[\"input_ids\"][0][start_idx:end_idx]))\n",
    "print(\"Answer:\", answer)"
   ]
  },
  {
   "cell_type": "code",
   "execution_count": null,
   "id": "bd8ad7e0-bbea-48a2-bdfa-1b0e64e9835c",
   "metadata": {},
   "outputs": [],
   "source": [
    "from flask import Flask, request, jsonify, render_template\n",
    "import torch\n",
    "from transformers import BlipProcessor, BlipForConditionalGeneration\n",
    "from PIL import Image\n",
    "import os\n",
    "\n",
    "app = Flask(__name__)\n",
    "\n",
    "# Load YOLOv5 model\n",
    "yolo_model = torch.hub.load('ultralytics/yolov5', 'yolov5s')\n",
    "\n",
    "# Load BLIP image captioning model\n",
    "processor = BlipProcessor.from_pretrained(\"Salesforce/blip-image-captioning-base\")\n",
    "blip_model = BlipForConditionalGeneration.from_pretrained(\"Salesforce/blip-image-captioning-base\")\n",
    "\n",
    "# Home route serving HTML\n",
    "@app.route('/')\n",
    "def index():\n",
    "    return render_template('index.html')  # This will serve the HTML file\n",
    "\n",
    "# Endpoint to handle image upload and caption generation\n",
    "@app.route('/generate_caption', methods=['POST'])\n",
    "def generate_caption():\n",
    "    if 'image' not in request.files:\n",
    "        return jsonify({'error': 'No image uploaded'})\n",
    "\n",
    "    # Save uploaded image\n",
    "    image = request.files['image']\n",
    "    image_path = os.path.join('uploads', image.filename)\n",
    "    image.save(image_path)\n",
    "\n",
    "    # Perform object detection using YOLOv5\n",
    "    results = yolo_model(image_path)\n",
    "    detected_objects = results.pandas().xyxy[0]['name'].tolist()\n",
    "\n",
    "    # Perform image captioning using BLIP\n",
    "    img = Image.open(image_path)\n",
    "    inputs = processor(img, return_tensors=\"pt\")\n",
    "    outputs = blip_model.generate(**inputs)\n",
    "    caption = processor.decode(outputs[0], skip_special_tokens=True)\n",
    "\n",
    "    # Remove the uploaded image after processing\n",
    "    os.remove(image_path)\n",
    "\n",
    "    return jsonify({'detected_objects': detected_objects, 'caption': caption})\n",
    "\n",
    "if __name__ == '__main__':\n",
    "    # Ensure 'uploads' directory exists\n",
    "    os.makedirs('uploads', exist_ok=True)\n",
    "    app.run(debug=True)\n"
   ]
  }
 ],
 "metadata": {
  "kernelspec": {
   "display_name": "Python 3 (ipykernel)",
   "language": "python",
   "name": "python3"
  },
  "language_info": {
   "codemirror_mode": {
    "name": "ipython",
    "version": 3
   },
   "file_extension": ".py",
   "mimetype": "text/x-python",
   "name": "python",
   "nbconvert_exporter": "python",
   "pygments_lexer": "ipython3",
   "version": "3.12.4"
  }
 },
 "nbformat": 4,
 "nbformat_minor": 5
}
